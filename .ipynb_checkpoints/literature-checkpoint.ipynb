{
 "cells": [
  {
   "cell_type": "code",
   "execution_count": 2,
   "metadata": {
    "collapsed": true
   },
   "outputs": [],
   "source": [
    "import pandas as pd\n",
    "import numpy as np\n",
    "import matplotlib.pyplot as plt"
   ]
  },
  {
   "cell_type": "code",
   "execution_count": 3,
   "metadata": {},
   "outputs": [
    {
     "data": {
      "text/html": [
       "<div>\n",
       "<style>\n",
       "    .dataframe thead tr:only-child th {\n",
       "        text-align: right;\n",
       "    }\n",
       "\n",
       "    .dataframe thead th {\n",
       "        text-align: left;\n",
       "    }\n",
       "\n",
       "    .dataframe tbody tr th {\n",
       "        vertical-align: top;\n",
       "    }\n",
       "</style>\n",
       "<table border=\"1\" class=\"dataframe\">\n",
       "  <thead>\n",
       "    <tr style=\"text-align: right;\">\n",
       "      <th></th>\n",
       "      <th>Semester</th>\n",
       "      <th>Class</th>\n",
       "      <th>Class Number</th>\n",
       "      <th>Section Number</th>\n",
       "      <th>Title</th>\n",
       "      <th>Author(s)</th>\n",
       "      <th>Gender</th>\n",
       "      <th>Number Students</th>\n",
       "    </tr>\n",
       "  </thead>\n",
       "  <tbody>\n",
       "    <tr>\n",
       "      <th>0</th>\n",
       "      <td>Spring 2012</td>\n",
       "      <td>Reading &amp; Composition:  American Song</td>\n",
       "      <td>English R1A</td>\n",
       "      <td>1</td>\n",
       "      <td>Souls of Black Folk</td>\n",
       "      <td>['W. E. B. Du Bois']</td>\n",
       "      <td>male</td>\n",
       "      <td>16.0</td>\n",
       "    </tr>\n",
       "    <tr>\n",
       "      <th>1</th>\n",
       "      <td>Spring 2012</td>\n",
       "      <td>Reading &amp; Composition:  American Song</td>\n",
       "      <td>English R1A</td>\n",
       "      <td>1</td>\n",
       "      <td>The American Songbag</td>\n",
       "      <td>['Carl Sandburg']</td>\n",
       "      <td>male</td>\n",
       "      <td>16.0</td>\n",
       "    </tr>\n",
       "    <tr>\n",
       "      <th>2</th>\n",
       "      <td>Spring 2012</td>\n",
       "      <td>Reading &amp; Composition:  American Song</td>\n",
       "      <td>English R1A</td>\n",
       "      <td>1</td>\n",
       "      <td>American Ballads and Folk SOngs</td>\n",
       "      <td>['Alan Lomax']</td>\n",
       "      <td>male</td>\n",
       "      <td>16.0</td>\n",
       "    </tr>\n",
       "    <tr>\n",
       "      <th>3</th>\n",
       "      <td>Spring 2012</td>\n",
       "      <td>Reading &amp; Composition:  Apocalypse / Now</td>\n",
       "      <td>English R1A</td>\n",
       "      <td>2</td>\n",
       "      <td>On the Principle of Population</td>\n",
       "      <td>['Thomas Robert Malthus']</td>\n",
       "      <td>male</td>\n",
       "      <td>18.0</td>\n",
       "    </tr>\n",
       "    <tr>\n",
       "      <th>4</th>\n",
       "      <td>Spring 2012</td>\n",
       "      <td>Reading &amp; Composition:  Apocalypse / Now</td>\n",
       "      <td>English R1A</td>\n",
       "      <td>2</td>\n",
       "      <td>The Road</td>\n",
       "      <td>['Cormac McCarthy']</td>\n",
       "      <td>male</td>\n",
       "      <td>18.0</td>\n",
       "    </tr>\n",
       "  </tbody>\n",
       "</table>\n",
       "</div>"
      ],
      "text/plain": [
       "      Semester                                     Class Class Number  \\\n",
       "0  Spring 2012     Reading & Composition:  American Song  English R1A   \n",
       "1  Spring 2012     Reading & Composition:  American Song  English R1A   \n",
       "2  Spring 2012     Reading & Composition:  American Song  English R1A   \n",
       "3  Spring 2012  Reading & Composition:  Apocalypse / Now  English R1A   \n",
       "4  Spring 2012  Reading & Composition:  Apocalypse / Now  English R1A   \n",
       "\n",
       "   Section Number                            Title                  Author(s)  \\\n",
       "0               1              Souls of Black Folk       ['W. E. B. Du Bois']   \n",
       "1               1             The American Songbag          ['Carl Sandburg']   \n",
       "2               1  American Ballads and Folk SOngs             ['Alan Lomax']   \n",
       "3               2   On the Principle of Population  ['Thomas Robert Malthus']   \n",
       "4               2                         The Road        ['Cormac McCarthy']   \n",
       "\n",
       "  Gender  Number Students  \n",
       "0   male             16.0  \n",
       "1   male             16.0  \n",
       "2   male             16.0  \n",
       "3   male             18.0  \n",
       "4   male             18.0  "
      ]
     },
     "execution_count": 3,
     "metadata": {},
     "output_type": "execute_result"
    }
   ],
   "source": [
    "books = pd.read_csv(\"books_additional.csv\")\n",
    "books.head()"
   ]
  },
  {
   "cell_type": "code",
   "execution_count": 4,
   "metadata": {},
   "outputs": [
    {
     "data": {
      "text/plain": [
       "<matplotlib.figure.Figure at 0x10bb0d5f8>"
      ]
     },
     "metadata": {},
     "output_type": "display_data"
    },
    {
     "data": {
      "image/png": "[encoded data removed]",
      "text/plain": [
       "<matplotlib.figure.Figure at 0x10bb224e0>"
      ]
     },
     "metadata": {},
     "output_type": "display_data"
    }
   ],
   "source": [
    "# Number of male authors per semester (ignoring weight of classes)\n",
    "genders = books.copy()\n",
    "genders['Male'] = [1 if g == 'male' else 0 for g in books['Gender']]\n",
    "genders['Female'] = [1 if g == 'female' else 0 for g in books['Gender']]\n",
    "\n",
    "drop_cols = ['Class', 'Class Number', 'Section Number', 'Title', 'Author(s)', 'Gender', 'Number Students']\n",
    "for col in drop_cols:\n",
    "    del genders[col]\n",
    "\n",
    "genders = genders.groupby('Semester').sum()\n",
    "\n",
    "plt.figure()\n",
    "genders.plot.bar()\n",
    "plt.show()"
   ]
  },
  {
   "cell_type": "code",
   "execution_count": null,
   "metadata": {
    "collapsed": true
   },
   "outputs": [],
   "source": []
  }
 ],
 "metadata": {
  "kernelspec": {
   "display_name": "Python 3",
   "language": "python",
   "name": "python3"
  },
  "language_info": {
   "codemirror_mode": {
    "name": "ipython",
    "version": 3
   },
   "file_extension": ".py",
   "mimetype": "text/x-python",
   "name": "python",
   "nbconvert_exporter": "python",
   "pygments_lexer": "ipython3",
   "version": "3.5.4"
  }
 },
 "nbformat": 4,
 "nbformat_minor": 2
}
